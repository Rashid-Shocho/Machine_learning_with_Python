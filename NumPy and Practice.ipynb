{
 "cells": [
  {
   "cell_type": "code",
   "execution_count": 1,
   "id": "d7e33ba8",
   "metadata": {},
   "outputs": [
    {
     "name": "stdout",
     "output_type": "stream",
     "text": [
      "Requirement already satisfied: numpy in c:\\users\\asus\\anaconda3\\lib\\site-packages (1.24.3)\n",
      "Note: you may need to restart the kernel to use updated packages.\n"
     ]
    }
   ],
   "source": [
    "pip install numpy"
   ]
  },
  {
   "cell_type": "code",
   "execution_count": 2,
   "id": "fc52358c",
   "metadata": {},
   "outputs": [
    {
     "name": "stdout",
     "output_type": "stream",
     "text": [
      "Requirement already satisfied: pandas in c:\\users\\asus\\anaconda3\\lib\\site-packages (2.0.3)\n",
      "Requirement already satisfied: python-dateutil>=2.8.2 in c:\\users\\asus\\anaconda3\\lib\\site-packages (from pandas) (2.8.2)\n",
      "Requirement already satisfied: pytz>=2020.1 in c:\\users\\asus\\anaconda3\\lib\\site-packages (from pandas) (2023.3.post1)\n",
      "Requirement already satisfied: tzdata>=2022.1 in c:\\users\\asus\\anaconda3\\lib\\site-packages (from pandas) (2023.3)\n",
      "Requirement already satisfied: numpy>=1.21.0 in c:\\users\\asus\\anaconda3\\lib\\site-packages (from pandas) (1.24.3)\n",
      "Requirement already satisfied: six>=1.5 in c:\\users\\asus\\anaconda3\\lib\\site-packages (from python-dateutil>=2.8.2->pandas) (1.16.0)\n",
      "Note: you may need to restart the kernel to use updated packages.\n"
     ]
    }
   ],
   "source": [
    "pip install pandas"
   ]
  },
  {
   "cell_type": "code",
   "execution_count": 4,
   "id": "b7a4af93",
   "metadata": {},
   "outputs": [],
   "source": [
    "import numpy as np"
   ]
  },
  {
   "cell_type": "code",
   "execution_count": 25,
   "id": "cead2f54",
   "metadata": {},
   "outputs": [
    {
     "name": "stdout",
     "output_type": "stream",
     "text": [
      "[[1 2 5 7 8]\n",
      " [3 4 7 5 6]\n",
      " [8 7 9 4 6]\n",
      " [4 6 7 9 8]\n",
      " [4 5 6 7 8]]\n"
     ]
    },
    {
     "data": {
      "text/plain": [
       "numpy.ndarray"
      ]
     },
     "execution_count": 25,
     "metadata": {},
     "output_type": "execute_result"
    }
   ],
   "source": [
    "ls = [1,2,5,7,8]\n",
    "ls1 = [3,4,7,5,6]\n",
    "ls3 = [8,7,9,4,6]\n",
    "ls4 = [4,6,7,9,8]\n",
    "arr = np.array([ls,ls1,ls3,ls4,[4,5,6,7,8]])\n",
    "print(arr)\n",
    "type(arr)"
   ]
  },
  {
   "cell_type": "code",
   "execution_count": 27,
   "id": "b7077474",
   "metadata": {},
   "outputs": [
    {
     "data": {
      "text/plain": [
       "array([[1, 2, 5, 7, 8],\n",
       "       [3, 4, 7, 5, 6],\n",
       "       [8, 7, 9, 4, 6],\n",
       "       [4, 6, 7, 9, 8],\n",
       "       [4, 5, 6, 7, 8]])"
      ]
     },
     "execution_count": 27,
     "metadata": {},
     "output_type": "execute_result"
    }
   ],
   "source": [
    "arr.reshape(5,5)"
   ]
  },
  {
   "cell_type": "code",
   "execution_count": 28,
   "id": "a02bb3f0",
   "metadata": {},
   "outputs": [
    {
     "data": {
      "text/plain": [
       "array([[1, 2, 5, 7, 8],\n",
       "       [3, 4, 7, 5, 6]])"
      ]
     },
     "execution_count": 28,
     "metadata": {},
     "output_type": "execute_result"
    }
   ],
   "source": [
    "arr[0:2,:]"
   ]
  },
  {
   "cell_type": "code",
   "execution_count": 29,
   "id": "4b10a7e6",
   "metadata": {},
   "outputs": [
    {
     "data": {
      "text/plain": [
       "array([[1, 2],\n",
       "       [3, 4]])"
      ]
     },
     "execution_count": 29,
     "metadata": {},
     "output_type": "execute_result"
    }
   ],
   "source": [
    "arr[0:2,0:2]"
   ]
  },
  {
   "cell_type": "code",
   "execution_count": 33,
   "id": "59725772",
   "metadata": {},
   "outputs": [
    {
     "data": {
      "text/plain": [
       "array([[9, 8],\n",
       "       [7, 8]])"
      ]
     },
     "execution_count": 33,
     "metadata": {},
     "output_type": "execute_result"
    }
   ],
   "source": [
    "arr[3:5,3:5]"
   ]
  },
  {
   "cell_type": "code",
   "execution_count": 37,
   "id": "92edf0d3",
   "metadata": {},
   "outputs": [
    {
     "name": "stdout",
     "output_type": "stream",
     "text": [
      "[0 2 4 6 8]\n"
     ]
    }
   ],
   "source": [
    "arr1 = np.arange(0,10,2)#Start, stop, step\n",
    "print(arr1)"
   ]
  },
  {
   "cell_type": "code",
   "execution_count": 38,
   "id": "13522d23",
   "metadata": {},
   "outputs": [
    {
     "name": "stdout",
     "output_type": "stream",
     "text": [
      "[ 1.          1.49494949  1.98989899  2.48484848  2.97979798  3.47474747\n",
      "  3.96969697  4.46464646  4.95959596  5.45454545  5.94949495  6.44444444\n",
      "  6.93939394  7.43434343  7.92929293  8.42424242  8.91919192  9.41414141\n",
      "  9.90909091 10.4040404  10.8989899  11.39393939 11.88888889 12.38383838\n",
      " 12.87878788 13.37373737 13.86868687 14.36363636 14.85858586 15.35353535\n",
      " 15.84848485 16.34343434 16.83838384 17.33333333 17.82828283 18.32323232\n",
      " 18.81818182 19.31313131 19.80808081 20.3030303  20.7979798  21.29292929\n",
      " 21.78787879 22.28282828 22.77777778 23.27272727 23.76767677 24.26262626\n",
      " 24.75757576 25.25252525 25.74747475 26.24242424 26.73737374 27.23232323\n",
      " 27.72727273 28.22222222 28.71717172 29.21212121 29.70707071 30.2020202\n",
      " 30.6969697  31.19191919 31.68686869 32.18181818 32.67676768 33.17171717\n",
      " 33.66666667 34.16161616 34.65656566 35.15151515 35.64646465 36.14141414\n",
      " 36.63636364 37.13131313 37.62626263 38.12121212 38.61616162 39.11111111\n",
      " 39.60606061 40.1010101  40.5959596  41.09090909 41.58585859 42.08080808\n",
      " 42.57575758 43.07070707 43.56565657 44.06060606 44.55555556 45.05050505\n",
      " 45.54545455 46.04040404 46.53535354 47.03030303 47.52525253 48.02020202\n",
      " 48.51515152 49.01010101 49.50505051 50.        ]\n"
     ]
    }
   ],
   "source": [
    "arr2 = np.linspace(1, 50, 100)\n",
    "print(arr2)"
   ]
  },
  {
   "cell_type": "code",
   "execution_count": 41,
   "id": "80edc08c",
   "metadata": {},
   "outputs": [
    {
     "data": {
      "text/plain": [
       "array([[1, 1, 1, 1, 1],\n",
       "       [1, 1, 1, 1, 1]])"
      ]
     },
     "execution_count": 41,
     "metadata": {},
     "output_type": "execute_result"
    }
   ],
   "source": [
    "#All the elements are replacing by 1\n",
    "arr\n",
    "np.ones((2,5),dtype = int)"
   ]
  },
  {
   "cell_type": "code",
   "execution_count": 44,
   "id": "78e0efd7",
   "metadata": {},
   "outputs": [
    {
     "name": "stdout",
     "output_type": "stream",
     "text": [
      "[[[1, 2, 3], [4, 5, 6]], [[7, 8, 9], [5, 6, 8]]]\n",
      "[[[1, 2, 3], [4, 5, 6]], [[7, 8, 9], [5, 6, 8]]]\n",
      "[[[1, 2, 3], [4, 5, 6]], [[7, 8, 9], [5, 6, 8]]]\n"
     ]
    }
   ],
   "source": [
    "#Three dimentional array\n",
    "a = [[[1,2,3],[4,5,6]],[[7,8,9],[5,6,8]]]\n",
    "for i in a:\n",
    "    print(a)\n",
    "print(a)"
   ]
  },
  {
   "cell_type": "code",
   "execution_count": 48,
   "id": "7fd8a91d",
   "metadata": {},
   "outputs": [
    {
     "data": {
      "text/plain": [
       "array([67,  9, 92, 15, 68, 20, 46, 96])"
      ]
     },
     "execution_count": 48,
     "metadata": {},
     "output_type": "execute_result"
    }
   ],
   "source": [
    "np.random.randint(0,100,8)"
   ]
  },
  {
   "cell_type": "code",
   "execution_count": 51,
   "id": "06c81bf5",
   "metadata": {},
   "outputs": [
    {
     "data": {
      "text/plain": [
       "array([], shape=(0, 10), dtype=float64)"
      ]
     },
     "execution_count": 51,
     "metadata": {},
     "output_type": "execute_result"
    }
   ],
   "source": [
    "np.random.random_sample((0,10))"
   ]
  },
  {
   "cell_type": "code",
   "execution_count": 54,
   "id": "cc385e0a",
   "metadata": {},
   "outputs": [
    {
     "name": "stdout",
     "output_type": "stream",
     "text": [
      "Requirement already satisfied: pillow in c:\\users\\asus\\anaconda3\\lib\\site-packages (9.4.0)\n",
      "Note: you may need to restart the kernel to use updated packages.\n"
     ]
    }
   ],
   "source": [
    "\n",
    "pip install pillow"
   ]
  },
  {
   "cell_type": "code",
   "execution_count": 55,
   "id": "d4f6050a",
   "metadata": {},
   "outputs": [
    {
     "name": "stderr",
     "output_type": "stream",
     "text": [
      "C:\\Users\\ASUS\\AppData\\Local\\Temp\\ipykernel_10680\\2955860910.py:14: DeprecationWarning: textsize is deprecated and will be removed in Pillow 10 (2023-07-01). Use textbbox or textlength instead.\n",
      "  text_width, text_height = draw.textsize(text, font)\n"
     ]
    }
   ],
   "source": [
    "\n"
   ]
  },
  {
   "cell_type": "code",
   "execution_count": null,
   "id": "b91f9f46",
   "metadata": {},
   "outputs": [],
   "source": []
  }
 ],
 "metadata": {
  "kernelspec": {
   "display_name": "Python 3 (ipykernel)",
   "language": "python",
   "name": "python3"
  },
  "language_info": {
   "codemirror_mode": {
    "name": "ipython",
    "version": 3
   },
   "file_extension": ".py",
   "mimetype": "text/x-python",
   "name": "python",
   "nbconvert_exporter": "python",
   "pygments_lexer": "ipython3",
   "version": "3.11.5"
  }
 },
 "nbformat": 4,
 "nbformat_minor": 5
}
